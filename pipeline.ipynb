{
 "cells": [
  {
   "cell_type": "code",
   "execution_count": 3,
   "id": "a1cd87bb",
   "metadata": {},
   "outputs": [
    {
     "name": "stderr",
     "output_type": "stream",
     "text": [
      "[nltk_data] Downloading package punkt to\n",
      "[nltk_data]     /Users/tsheltrimpemo/nltk_data...\n",
      "[nltk_data]   Package punkt is already up-to-date!\n",
      "[nltk_data] Downloading package omw-1.4 to\n",
      "[nltk_data]     /Users/tsheltrimpemo/nltk_data...\n",
      "[nltk_data]   Package omw-1.4 is already up-to-date!\n",
      "[nltk_data] Downloading package wordnet to\n",
      "[nltk_data]     /Users/tsheltrimpemo/nltk_data...\n",
      "[nltk_data]   Package wordnet is already up-to-date!\n",
      "[nltk_data] Downloading package stopwords to\n",
      "[nltk_data]     /Users/tsheltrimpemo/nltk_data...\n",
      "[nltk_data]   Package stopwords is already up-to-date!\n",
      "[nltk_data] Downloading package averaged_perceptron_tagger to\n",
      "[nltk_data]     /Users/tsheltrimpemo/nltk_data...\n",
      "[nltk_data]   Package averaged_perceptron_tagger is already up-to-\n",
      "[nltk_data]       date!\n"
     ]
    },
    {
     "name": "stdout",
     "output_type": "stream",
     "text": [
      "Applying SMOTE and training for label: toxic\n",
      "F1 Score for toxic: 0.8564616118264187\n",
      "Applying SMOTE and training for label: obscene\n",
      "F1 Score for obscene: 0.7845855281397283\n",
      "Applying SMOTE and training for label: insult\n",
      "F1 Score for insult: 0.711046511627907\n"
     ]
    }
   ],
   "source": [
    "# Importing necessary libraries\n",
    "import pandas as pd\n",
    "import nltk\n",
    "from nltk import WordNetLemmatizer\n",
    "from nltk import pos_tag, word_tokenize\n",
    "from nltk.corpus import stopwords as nltk_stopwords\n",
    "from sklearn.feature_extraction.text import TfidfVectorizer\n",
    "from sklearn.model_selection import train_test_split\n",
    "from sklearn.svm import SVC\n",
    "from sklearn.metrics import f1_score, confusion_matrix\n",
    "from sklearn.base import BaseEstimator, TransformerMixin\n",
    "from sklearn.pipeline import Pipeline\n",
    "from imblearn.over_sampling import SMOTE\n",
    "import re\n",
    "import pickle\n",
    "\n",
    "# Load the dataset\n",
    "df = pd.read_csv(\"datasets.csv\")\n",
    "\n",
    "# Drop unnecessary columns\n",
    "df.drop(['id', 'threat', 'identity_hate','severe_toxic'], axis=1, inplace=True)\n",
    "\n",
    "# Filter and balance the dataset\n",
    "df_non_toxic = df[(df[['toxic', 'obscene', 'insult']] == 0).all(axis=1)]\n",
    "if len(df_non_toxic) > 20000:\n",
    "    df_non_toxic = df_non_toxic.sample(n=20000, random_state=42)\n",
    "df_toxic = df[(df[['toxic', 'obscene', 'insult']] != 0).any(axis=1)]\n",
    "df_combined = pd.concat([df_toxic, df_non_toxic])\n",
    "\n",
    "# Download NLTK resources\n",
    "nltk.download('punkt')\n",
    "nltk.download('omw-1.4')\n",
    "nltk.download('wordnet')\n",
    "nltk.download('stopwords')\n",
    "nltk.download('averaged_perceptron_tagger')\n",
    "\n",
    "# Custom transformer for text preprocessing\n",
    "class TextPreprocessor(BaseEstimator, TransformerMixin):\n",
    "    def __init__(self):\n",
    "        self.wordnet_lemmatizer = WordNetLemmatizer()\n",
    "        self.stopwords = set(nltk_stopwords.words('english'))\n",
    "    \n",
    "    def get_wordnet_pos(self, treebank_tag):\n",
    "        if treebank_tag.startswith('J'):\n",
    "            return wordnet.ADJ\n",
    "        elif treebank_tag.startswith('V'):\n",
    "            return wordnet.VERB\n",
    "        elif treebank_tag.startswith('N'):\n",
    "            return wordnet.NOUN\n",
    "        elif treebank_tag.startswith('R'):\n",
    "            return wordnet.ADV\n",
    "        else:\n",
    "            return wordnet.NOUN\n",
    "\n",
    "    def prepare_text(self, text):\n",
    "        text = re.sub(r'[^a-zA-Z]', ' ', text)\n",
    "        text = word_tokenize(text)\n",
    "        text = pos_tag(text)\n",
    "        lemma = [self.wordnet_lemmatizer.lemmatize(i[0], pos=self.get_wordnet_pos(i[1])) for i in text]\n",
    "        lemma = ' '.join(lemma)\n",
    "        return lemma\n",
    "    \n",
    "    def fit(self, X, y=None):\n",
    "        return self\n",
    "    \n",
    "    def transform(self, X, y=None):\n",
    "        return X.apply(self.prepare_text)\n",
    "\n",
    "# Initialize dictionaries to store models\n",
    "models = {}\n",
    "\n",
    "# Apply SMOTE, train, and evaluate for each label independently\n",
    "for toxicity_type in df_combined.columns[1:]:\n",
    "    print(f\"Applying SMOTE and training for label: {toxicity_type}\")\n",
    "\n",
    "    # Define the pipeline\n",
    "    text_pipeline = Pipeline(steps=[\n",
    "        ('preprocessor', TextPreprocessor()),\n",
    "        ('tfidf', TfidfVectorizer(stop_words='english'))\n",
    "    ])\n",
    "\n",
    "    # Apply SMOTE to the specific label\n",
    "    X = df_combined['comment_text']\n",
    "    y = df_combined[toxicity_type]\n",
    "    \n",
    "    X_train, X_test, y_train, y_test = train_test_split(X, y, test_size=0.2, random_state=42)\n",
    "    \n",
    "    X_train_transformed = text_pipeline.fit_transform(X_train)\n",
    "    \n",
    "    smote = SMOTE(random_state=42)\n",
    "    X_resampled, y_resampled = smote.fit_resample(X_train_transformed, y_train)\n",
    "    \n",
    "    svc_model = SVC(kernel='linear', probability=True)\n",
    "    svc_model.fit(X_resampled, y_resampled)\n",
    "    \n",
    "    models[toxicity_type] = Pipeline(steps=[\n",
    "        ('text_pipeline', text_pipeline),\n",
    "        ('classifier', svc_model)\n",
    "    ])\n",
    "\n",
    "    # Evaluate the model\n",
    "    y_pred = models[toxicity_type].predict(X_test)\n",
    "    f1 = f1_score(y_test, y_pred)\n",
    "    print(f\"F1 Score for {toxicity_type}: {f1}\")\n"
   ]
  },
  {
   "cell_type": "code",
   "execution_count": 4,
   "id": "958295b0",
   "metadata": {},
   "outputs": [],
   "source": [
    "# Save the models using pickle\n",
    "with open('model2.pkl', 'wb') as f:\n",
    "    pickle.dump(models, f)"
   ]
  },
  {
   "cell_type": "code",
   "execution_count": 12,
   "id": "7dbe26ef",
   "metadata": {},
   "outputs": [
    {
     "data": {
      "text/plain": [
       "['model3.pkt']"
      ]
     },
     "execution_count": 12,
     "metadata": {},
     "output_type": "execute_result"
    }
   ],
   "source": [
    "from joblib import dump\n",
    "\n",
    "# Save the models using joblib\n",
    "dump(models, 'model3.pkt')"
   ]
  },
  {
   "cell_type": "code",
   "execution_count": 7,
   "id": "78dabed7",
   "metadata": {},
   "outputs": [
    {
     "name": "stdout",
     "output_type": "stream",
     "text": [
      "Toxicity Probabilities: {'toxic': 0.06001845505733713, 'obscene': 0.14729501652439078, 'insult': 0.066346275214812}\n"
     ]
    }
   ],
   "source": [
    "import pickle\n",
    "\n",
    "# Load the trained models from the pickle file\n",
    "with open('model2.pkl', 'rb') as f:\n",
    "    models = pickle.load(f)\n",
    "\n",
    "# Define a function to predict toxicity probabilities\n",
    "def predict_toxicity(new_comment):\n",
    "    toxicity_probs = {}\n",
    "    for toxicity_type, model in models.items():\n",
    "        # Preprocess the comment using the text pipeline in the model\n",
    "        preprocessed_comment = model.named_steps['text_pipeline'].transform(pd.Series([new_comment]))\n",
    "        # Predict the probability of being toxic for each label\n",
    "        toxicity_probs[toxicity_type] = model.named_steps['classifier'].predict_proba(preprocessed_comment)[0][1]\n",
    "    \n",
    "    return toxicity_probs\n",
    "\n",
    "# Example usage\n",
    "new_comment = \"Your video content is very relatable\"\n",
    "toxicity_probs = predict_toxicity(new_comment)\n",
    "print(\"Toxicity Probabilities:\", toxicity_probs)"
   ]
  },
  {
   "cell_type": "code",
   "execution_count": 8,
   "id": "d35d1a57",
   "metadata": {},
   "outputs": [
    {
     "name": "stdout",
     "output_type": "stream",
     "text": [
      "Toxicity Probabilities: {'toxic': 0.9999999999999699, 'obscene': 0.9625367654895076, 'insult': 0.9999999999188693}\n"
     ]
    }
   ],
   "source": [
    "import pickle\n",
    "\n",
    "# Load the trained models from the pickle file\n",
    "with open('model2.pkl', 'rb') as f:\n",
    "    models = pickle.load(f)\n",
    "\n",
    "# Define a function to predict toxicity probabilities\n",
    "def predict_toxicity(new_comment):\n",
    "    toxicity_probs = {}\n",
    "    for toxicity_type, model in models.items():\n",
    "        # Preprocess the comment using the text pipeline in the model\n",
    "        preprocessed_comment = model.named_steps['text_pipeline'].transform(pd.Series([new_comment]))\n",
    "        # Predict the probability of being toxic for each label\n",
    "        toxicity_probs[toxicity_type] = model.named_steps['classifier'].predict_proba(preprocessed_comment)[0][1]\n",
    "    \n",
    "    return toxicity_probs\n",
    "\n",
    "# Example usage\n",
    "new_comment = \"Shut up idiot\"\n",
    "toxicity_probs = predict_toxicity(new_comment)\n",
    "print(\"Toxicity Probabilities:\", toxicity_probs)"
   ]
  },
  {
   "cell_type": "code",
   "execution_count": 9,
   "id": "a5ab1810",
   "metadata": {},
   "outputs": [
    {
     "name": "stdout",
     "output_type": "stream",
     "text": [
      "Toxicity Probabilities: {'toxic': 0.9999873724647066, 'obscene': 0.13460504920713032, 'insult': 0.999986419917415}\n"
     ]
    }
   ],
   "source": [
    "import pickle\n",
    "\n",
    "# Load the trained models from the pickle file\n",
    "with open('model2.pkl', 'rb') as f:\n",
    "    models = pickle.load(f)\n",
    "\n",
    "# Define a function to predict toxicity probabilities\n",
    "def predict_toxicity(new_comment):\n",
    "    toxicity_probs = {}\n",
    "    for toxicity_type, model in models.items():\n",
    "        # Preprocess the comment using the text pipeline in the model\n",
    "        preprocessed_comment = model.named_steps['text_pipeline'].transform(pd.Series([new_comment]))\n",
    "        # Predict the probability of being toxic for each label\n",
    "        toxicity_probs[toxicity_type] = model.named_steps['classifier'].predict_proba(preprocessed_comment)[0][1]\n",
    "    \n",
    "    return toxicity_probs\n",
    "\n",
    "# Example usage\n",
    "new_comment = \"You are loser\"\n",
    "toxicity_probs = predict_toxicity(new_comment)\n",
    "print(\"Toxicity Probabilities:\", toxicity_probs)"
   ]
  },
  {
   "cell_type": "code",
   "execution_count": null,
   "id": "283248fb",
   "metadata": {},
   "outputs": [],
   "source": []
  }
 ],
 "metadata": {
  "kernelspec": {
   "display_name": "Python 3 (ipykernel)",
   "language": "python",
   "name": "python3"
  },
  "language_info": {
   "codemirror_mode": {
    "name": "ipython",
    "version": 3
   },
   "file_extension": ".py",
   "mimetype": "text/x-python",
   "name": "python",
   "nbconvert_exporter": "python",
   "pygments_lexer": "ipython3",
   "version": "3.11.5"
  }
 },
 "nbformat": 4,
 "nbformat_minor": 5
}
